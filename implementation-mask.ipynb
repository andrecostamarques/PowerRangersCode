{
 "cells": [
  {
   "cell_type": "code",
   "execution_count": 63,
   "id": "b3ccc9ed",
   "metadata": {},
   "outputs": [],
   "source": [
    "import torch\n",
    "import torch.nn.functional as F\n",
    "from torchvision import datasets, transforms\n",
    "from torch.utils.data import DataLoader\n",
    "import numpy as np\n",
    "\n",
    "# Defines transform pipeline\n",
    "transform = transforms.Compose([\n",
    "    transforms.ToTensor(),\n",
    "    transforms.Normalize((0,), (1,))\n",
    "])\n",
    "\n",
    "# Download and transform\n",
    "train_dataset = datasets.MNIST(\n",
    "    root='./data', train=True, download=True, transform=transform\n",
    ")\n",
    "test_dataset = datasets.MNIST(\n",
    "    root='./data', train=False, download=True, transform=transform\n",
    ")\n",
    "\n",
    "# DataLoaders\n",
    "train_loader = DataLoader(train_dataset, batch_size=64, shuffle=True)\n",
    "test_loader = DataLoader(test_dataset, batch_size=64, shuffle=False)"
   ]
  },
  {
   "cell_type": "code",
   "execution_count": 64,
   "id": "a70c46f3",
   "metadata": {},
   "outputs": [
    {
     "data": {
      "image/png": "[encoded data removed]",
      "text/plain": [
       "<Figure size 640x480 with 1 Axes>"
      ]
     },
     "metadata": {},
     "output_type": "display_data"
    }
   ],
   "source": [
    "import matplotlib.pyplot as plt\n",
    "\n",
    "img, label = train_dataset[0]\n",
    "img = img.squeeze(0)\n",
    "\n",
    "def plot_image(img):\n",
    "    plt.imshow(img, cmap='gray')\n",
    "    plt.title(f'Rótulo: {label}')\n",
    "    plt.axis('off')\n",
    "    plt.show()\n",
    "\n",
    "plot_image(img)"
   ]
  },
  {
   "cell_type": "code",
   "execution_count": 65,
   "id": "a6c60293",
   "metadata": {},
   "outputs": [],
   "source": [
    "class SelectionMask:\n",
    "    def __init__(self, shape, dtype=None, device=None):\n",
    "        self.mask = torch.randn(shape, dtype=dtype, device=device)\n",
    "        self.mask[self.mask == 0] = torch.finfo(dtype).tiny #Ensures abscense of zeros\n",
    "        \n",
    "    # def dot(self, tensor):\n",
    "    #     return torch.dot(self.mask.flatten(), tensor.flatten().to(self.device))\n",
    "    \n",
    "    def interpolate(self, new_size, mode=\"nearest\"):\n",
    "        input_4d = self.mask.unsqueeze(0).unsqueeze(0)  # Adds batch and channel dims\n",
    "\n",
    "        interpolated = F.interpolate(\n",
    "            input_4d.float(),\n",
    "            size=new_size,\n",
    "            mode=mode,\n",
    "        ).squeeze(0).squeeze(0)  # Remove batch e channel dims\n",
    "\n",
    "        temp = SelectionMask(self.mask.shape, dtype=self.mask.dtype)\n",
    "        temp.mask = interpolated.to(self.mask.dtype)\n",
    "\n",
    "        return temp\n",
    "    \n",
    "    def binarize(self, treshold=0.5):\n",
    "        return (torch.abs(self.mask) >= treshold).float()\n",
    "    "
   ]
  },
  {
   "cell_type": "code",
   "execution_count": null,
   "id": "57e1ef66",
   "metadata": {},
   "outputs": [
    {
     "data": {
      "text/plain": [
       "torch.Size([3, 3])"
      ]
     },
     "execution_count": 66,
     "metadata": {},
     "output_type": "execute_result"
    }
   ],
   "source": [
    "x = torch.rand((3,3))\n",
    "x.shape"
   ]
  },
  {
   "cell_type": "code",
   "execution_count": 67,
   "id": "698ecf33",
   "metadata": {},
   "outputs": [
    {
     "data": {
      "text/plain": [
       "torch.Size([3, 3])"
      ]
     },
     "execution_count": 67,
     "metadata": {},
     "output_type": "execute_result"
    }
   ],
   "source": [
    "mask = SelectionMask(shape=x.shape, dtype=x.dtype)\n",
    "mask.mask.shape"
   ]
  },
  {
   "cell_type": "code",
   "execution_count": 68,
   "id": "ae439d39",
   "metadata": {},
   "outputs": [
    {
     "data": {
      "text/plain": [
       "torch.Size([28, 28])"
      ]
     },
     "execution_count": 68,
     "metadata": {},
     "output_type": "execute_result"
    }
   ],
   "source": [
    "mask = mask.interpolate((28,28))\n",
    "mask.mask.shape\n"
   ]
  },
  {
   "cell_type": "code",
   "execution_count": 69,
   "id": "cfb70881",
   "metadata": {},
   "outputs": [
    {
     "data": {
      "text/plain": [
       "torch.Size([28, 28])"
      ]
     },
     "execution_count": 69,
     "metadata": {},
     "output_type": "execute_result"
    }
   ],
   "source": [
    "mask = mask.binarize()\n",
    "mask.shape"
   ]
  },
  {
   "cell_type": "code",
   "execution_count": 70,
   "id": "64eabdc1",
   "metadata": {},
   "outputs": [
    {
     "data": {
      "image/png": "[encoded data removed]",
      "text/plain": [
       "<Figure size 640x480 with 1 Axes>"
      ]
     },
     "metadata": {},
     "output_type": "display_data"
    },
    {
     "name": "stdout",
     "output_type": "stream",
     "text": [
      "torch.Size([28, 28])\n"
     ]
    },
    {
     "data": {
      "image/png": "[encoded data removed]",
      "text/plain": [
       "<Figure size 640x480 with 1 Axes>"
      ]
     },
     "metadata": {},
     "output_type": "display_data"
    },
    {
     "name": "stdout",
     "output_type": "stream",
     "text": [
      "torch.Size([28, 28])\n"
     ]
    },
    {
     "data": {
      "image/png": "[encoded data removed]",
      "text/plain": [
       "<Figure size 640x480 with 1 Axes>"
      ]
     },
     "metadata": {},
     "output_type": "display_data"
    }
   ],
   "source": [
    "\n",
    "img, _ = train_dataset[0]\n",
    "img = img.squeeze(0)\n",
    "plot_image(img)\n",
    "print(img.shape)\n",
    "plot_image(mask)\n",
    "print(mask[:][:][:].shape)\n",
    "temp = img*mask\n",
    "plot_image(temp)"
   ]
  },
  {
   "cell_type": "markdown",
   "id": "6130ed39",
   "metadata": {},
   "source": [
    "## TODO\n",
    "- refatorar a mascara para ser automatica a quantidade de canais\n",
    "- SEM TAMANHO DINÂMICO\n",
    "- tem variavel que escolhe o tamanho \n",
    "- função aplicação da mascara na imagem\n",
    "- mapa de parâmetros -> definir o que vai ser treinado ou não\n"
   ]
  },
  {
   "cell_type": "markdown",
   "id": "6e561427",
   "metadata": {},
   "source": []
  }
 ],
 "metadata": {
  "kernelspec": {
   "display_name": "PowerRanger-env",
   "language": "python",
   "name": "python3"
  },
  "language_info": {
   "codemirror_mode": {
    "name": "ipython",
    "version": 3
   },
   "file_extension": ".py",
   "mimetype": "text/x-python",
   "name": "python",
   "nbconvert_exporter": "python",
   "pygments_lexer": "ipython3",
   "version": "3.12.11"
  }
 },
 "nbformat": 4,
 "nbformat_minor": 5
}
