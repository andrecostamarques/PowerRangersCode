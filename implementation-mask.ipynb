{
 "cells": [
  {
   "cell_type": "code",
   "execution_count": 13,
   "id": "b3ccc9ed",
   "metadata": {},
   "outputs": [],
   "source": [
    "import torch\n",
    "import torch.nn.functional as F"
   ]
  },
  {
   "cell_type": "code",
   "execution_count": 21,
   "id": "a6c60293",
   "metadata": {},
   "outputs": [],
   "source": [
    "class SelectionMask:\n",
    "    def __init__(self, shape, dtype=None, device=None):\n",
    "        self.mask = torch.randn(shape, dtype=dtype, device=device)\n",
    "        self.mask[self.mask == 0] = torch.finfo(dtype).tiny #Ensures abscense of zeros\n",
    "        \n",
    "    # def dot(self, tensor):\n",
    "    #     return torch.dot(self.mask.flatten(), tensor.flatten().to(self.device))\n",
    "    \n",
    "    def interpolate(self, new_size, mode=\"nearest\"):\n",
    "        input_4d = self.mask.unsqueeze(0).unsqueeze(0)  # Adds batch and channel dims\n",
    "\n",
    "        interpolated = F.interpolate(\n",
    "            input_4d.float(),\n",
    "            size=new_size,\n",
    "            mode=mode,\n",
    "        ).squeeze(0).squeeze(0)  # Remove batch e channel dims\n",
    "\n",
    "        return interpolated.to(self.mask.dtype)\n",
    "    \n",
    "    def binarize(self, treshold=0.5):\n",
    "        return (torch.abs(self.mask) >= treshold).float()"
   ]
  },
  {
   "cell_type": "code",
   "execution_count": 22,
   "id": "57e1ef66",
   "metadata": {},
   "outputs": [
    {
     "data": {
      "text/plain": [
       "tensor([[[0.7548, 0.2481, 0.7681],\n",
       "         [0.9982, 0.8777, 0.0892]],\n",
       "\n",
       "        [[0.0799, 0.2758, 0.3649],\n",
       "         [0.8682, 0.9950, 0.3230]]])"
      ]
     },
     "execution_count": 22,
     "metadata": {},
     "output_type": "execute_result"
    }
   ],
   "source": [
    "x = torch.rand((2, 2, 3))\n",
    "x"
   ]
  },
  {
   "cell_type": "code",
   "execution_count": 23,
   "id": "698ecf33",
   "metadata": {},
   "outputs": [
    {
     "data": {
      "text/plain": [
       "tensor([[[ 0.6520, -0.5271],\n",
       "         [ 0.0185, -0.9295],\n",
       "         [-0.1075,  0.6466],\n",
       "         [ 0.5247, -0.5613]],\n",
       "\n",
       "        [[-0.3560,  0.0277],\n",
       "         [ 0.7789, -0.0232],\n",
       "         [-1.1976,  0.1776],\n",
       "         [-1.6394, -0.3975]],\n",
       "\n",
       "        [[ 0.0519,  1.9313],\n",
       "         [ 0.6923, -0.4437],\n",
       "         [ 0.8182,  0.3519],\n",
       "         [-2.4245, -0.3636]],\n",
       "\n",
       "        [[-1.3998, -1.1266],\n",
       "         [ 0.6156,  1.0660],\n",
       "         [ 1.2461,  1.2641],\n",
       "         [-1.0975,  1.2361]]])"
      ]
     },
     "execution_count": 23,
     "metadata": {},
     "output_type": "execute_result"
    }
   ],
   "source": [
    "mask = SelectionMask(shape=(4,4,2), dtype=x.dtype)\n",
    "mask.mask"
   ]
  },
  {
   "cell_type": "code",
   "execution_count": 24,
   "id": "ffee6470",
   "metadata": {},
   "outputs": [
    {
     "data": {
      "text/plain": [
       "tensor([[[1., 1.],\n",
       "         [0., 1.],\n",
       "         [0., 1.],\n",
       "         [1., 1.]],\n",
       "\n",
       "        [[0., 0.],\n",
       "         [1., 0.],\n",
       "         [1., 0.],\n",
       "         [1., 0.]],\n",
       "\n",
       "        [[0., 1.],\n",
       "         [1., 0.],\n",
       "         [1., 0.],\n",
       "         [1., 0.]],\n",
       "\n",
       "        [[1., 1.],\n",
       "         [1., 1.],\n",
       "         [1., 1.],\n",
       "         [1., 1.]]])"
      ]
     },
     "execution_count": 24,
     "metadata": {},
     "output_type": "execute_result"
    }
   ],
   "source": [
    "mask.binarize()"
   ]
  },
  {
   "cell_type": "code",
   "execution_count": null,
   "id": "ae439d39",
   "metadata": {},
   "outputs": [],
   "source": []
  }
 ],
 "metadata": {
  "kernelspec": {
   "display_name": "PowerRanger-env",
   "language": "python",
   "name": "python3"
  },
  "language_info": {
   "codemirror_mode": {
    "name": "ipython",
    "version": 3
   },
   "file_extension": ".py",
   "mimetype": "text/x-python",
   "name": "python",
   "nbconvert_exporter": "python",
   "pygments_lexer": "ipython3",
   "version": "3.12.11"
  }
 },
 "nbformat": 4,
 "nbformat_minor": 5
}
